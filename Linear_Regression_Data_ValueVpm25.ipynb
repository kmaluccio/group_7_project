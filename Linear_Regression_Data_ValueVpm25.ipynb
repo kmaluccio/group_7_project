{
 "cells": [
  {
   "cell_type": "code",
   "execution_count": 7,
   "id": "5620d987",
   "metadata": {},
   "outputs": [],
   "source": [
    "import pandas as pd\n",
    "from pathlib import Path\n",
    "import matplotlib.pyplot as plt\n",
    "from sklearn.linear_model import LinearRegression\n",
    "import math\n",
    "from sklearn.metrics import mean_squared_error"
   ]
  },
  {
   "cell_type": "code",
   "execution_count": 8,
   "id": "61476473",
   "metadata": {},
   "outputs": [
    {
     "data": {
      "text/html": [
       "<div>\n",
       "<style scoped>\n",
       "    .dataframe tbody tr th:only-of-type {\n",
       "        vertical-align: middle;\n",
       "    }\n",
       "\n",
       "    .dataframe tbody tr th {\n",
       "        vertical-align: top;\n",
       "    }\n",
       "\n",
       "    .dataframe thead th {\n",
       "        text-align: right;\n",
       "    }\n",
       "</style>\n",
       "<table border=\"1\" class=\"dataframe\">\n",
       "  <thead>\n",
       "    <tr style=\"text-align: right;\">\n",
       "      <th></th>\n",
       "      <th>Unnamed: 0</th>\n",
       "      <th>ID WHO city</th>\n",
       "      <th>iso3</th>\n",
       "      <th>country</th>\n",
       "      <th>CityName</th>\n",
       "      <th>pm10</th>\n",
       "      <th>Year_x</th>\n",
       "      <th>type_of_stations</th>\n",
       "      <th>pm10_type</th>\n",
       "      <th>pm25</th>\n",
       "      <th>...</th>\n",
       "      <th>High_Confidence_Limit</th>\n",
       "      <th>Data_Value_Footnote_Symbol</th>\n",
       "      <th>Data_Value_Footnote</th>\n",
       "      <th>PopulationCount</th>\n",
       "      <th>GeoLocation</th>\n",
       "      <th>CategoryID</th>\n",
       "      <th>MeasureId</th>\n",
       "      <th>CityFIPS</th>\n",
       "      <th>TractFIPS</th>\n",
       "      <th>Short_Question_Text</th>\n",
       "    </tr>\n",
       "  </thead>\n",
       "  <tbody>\n",
       "    <tr>\n",
       "      <th>0</th>\n",
       "      <td>0</td>\n",
       "      <td>2605.0</td>\n",
       "      <td>USA</td>\n",
       "      <td>United States of America</td>\n",
       "      <td>Akron</td>\n",
       "      <td>19.207991</td>\n",
       "      <td>2014</td>\n",
       "      <td>-</td>\n",
       "      <td>Converted</td>\n",
       "      <td>10.4</td>\n",
       "      <td>...</td>\n",
       "      <td>12.9</td>\n",
       "      <td>NaN</td>\n",
       "      <td>NaN</td>\n",
       "      <td>6574</td>\n",
       "      <td>(41.0807560689, -81.4503350072)</td>\n",
       "      <td>HLTHOUT</td>\n",
       "      <td>DIABETES</td>\n",
       "      <td>3901000.0</td>\n",
       "      <td>3.915350e+10</td>\n",
       "      <td>Diabetes</td>\n",
       "    </tr>\n",
       "    <tr>\n",
       "      <th>1</th>\n",
       "      <td>1</td>\n",
       "      <td>2605.0</td>\n",
       "      <td>USA</td>\n",
       "      <td>United States of America</td>\n",
       "      <td>Akron</td>\n",
       "      <td>19.207991</td>\n",
       "      <td>2014</td>\n",
       "      <td>-</td>\n",
       "      <td>Converted</td>\n",
       "      <td>10.4</td>\n",
       "      <td>...</td>\n",
       "      <td>25.7</td>\n",
       "      <td>NaN</td>\n",
       "      <td>NaN</td>\n",
       "      <td>2913</td>\n",
       "      <td>(41.0806403452, -81.5509027089)</td>\n",
       "      <td>HLTHOUT</td>\n",
       "      <td>DIABETES</td>\n",
       "      <td>3901000.0</td>\n",
       "      <td>3.915351e+10</td>\n",
       "      <td>Diabetes</td>\n",
       "    </tr>\n",
       "    <tr>\n",
       "      <th>2</th>\n",
       "      <td>2</td>\n",
       "      <td>2605.0</td>\n",
       "      <td>USA</td>\n",
       "      <td>United States of America</td>\n",
       "      <td>Akron</td>\n",
       "      <td>19.207991</td>\n",
       "      <td>2014</td>\n",
       "      <td>-</td>\n",
       "      <td>Converted</td>\n",
       "      <td>10.4</td>\n",
       "      <td>...</td>\n",
       "      <td>18.6</td>\n",
       "      <td>NaN</td>\n",
       "      <td>NaN</td>\n",
       "      <td>1491</td>\n",
       "      <td>(41.0499564598, -81.5233458795)</td>\n",
       "      <td>HLTHOUT</td>\n",
       "      <td>DIABETES</td>\n",
       "      <td>3901000.0</td>\n",
       "      <td>3.915350e+10</td>\n",
       "      <td>Diabetes</td>\n",
       "    </tr>\n",
       "    <tr>\n",
       "      <th>3</th>\n",
       "      <td>3</td>\n",
       "      <td>2605.0</td>\n",
       "      <td>USA</td>\n",
       "      <td>United States of America</td>\n",
       "      <td>Akron</td>\n",
       "      <td>19.207991</td>\n",
       "      <td>2014</td>\n",
       "      <td>-</td>\n",
       "      <td>Converted</td>\n",
       "      <td>10.4</td>\n",
       "      <td>...</td>\n",
       "      <td>15.6</td>\n",
       "      <td>NaN</td>\n",
       "      <td>NaN</td>\n",
       "      <td>5642</td>\n",
       "      <td>(41.0968405496, -81.4884726996)</td>\n",
       "      <td>HLTHOUT</td>\n",
       "      <td>DIABETES</td>\n",
       "      <td>3901000.0</td>\n",
       "      <td>3.915350e+10</td>\n",
       "      <td>Diabetes</td>\n",
       "    </tr>\n",
       "    <tr>\n",
       "      <th>4</th>\n",
       "      <td>4</td>\n",
       "      <td>2605.0</td>\n",
       "      <td>USA</td>\n",
       "      <td>United States of America</td>\n",
       "      <td>Akron</td>\n",
       "      <td>19.207991</td>\n",
       "      <td>2014</td>\n",
       "      <td>-</td>\n",
       "      <td>Converted</td>\n",
       "      <td>10.4</td>\n",
       "      <td>...</td>\n",
       "      <td>11.1</td>\n",
       "      <td>NaN</td>\n",
       "      <td>NaN</td>\n",
       "      <td>2910</td>\n",
       "      <td>(41.095228314, -81.5489870893)</td>\n",
       "      <td>HLTHOUT</td>\n",
       "      <td>DIABETES</td>\n",
       "      <td>3901000.0</td>\n",
       "      <td>3.915351e+10</td>\n",
       "      <td>Diabetes</td>\n",
       "    </tr>\n",
       "  </tbody>\n",
       "</table>\n",
       "<p>5 rows × 54 columns</p>\n",
       "</div>"
      ],
      "text/plain": [
       "   Unnamed: 0  ID WHO city iso3                   country CityName       pm10  \\\n",
       "0           0       2605.0  USA  United States of America    Akron  19.207991   \n",
       "1           1       2605.0  USA  United States of America    Akron  19.207991   \n",
       "2           2       2605.0  USA  United States of America    Akron  19.207991   \n",
       "3           3       2605.0  USA  United States of America    Akron  19.207991   \n",
       "4           4       2605.0  USA  United States of America    Akron  19.207991   \n",
       "\n",
       "   Year_x type_of_stations  pm10_type  pm25  ... High_Confidence_Limit  \\\n",
       "0    2014                -  Converted  10.4  ...                  12.9   \n",
       "1    2014                -  Converted  10.4  ...                  25.7   \n",
       "2    2014                -  Converted  10.4  ...                  18.6   \n",
       "3    2014                -  Converted  10.4  ...                  15.6   \n",
       "4    2014                -  Converted  10.4  ...                  11.1   \n",
       "\n",
       "  Data_Value_Footnote_Symbol  Data_Value_Footnote  PopulationCount  \\\n",
       "0                        NaN                  NaN             6574   \n",
       "1                        NaN                  NaN             2913   \n",
       "2                        NaN                  NaN             1491   \n",
       "3                        NaN                  NaN             5642   \n",
       "4                        NaN                  NaN             2910   \n",
       "\n",
       "                       GeoLocation CategoryID MeasureId   CityFIPS  \\\n",
       "0  (41.0807560689, -81.4503350072)    HLTHOUT  DIABETES  3901000.0   \n",
       "1  (41.0806403452, -81.5509027089)    HLTHOUT  DIABETES  3901000.0   \n",
       "2  (41.0499564598, -81.5233458795)    HLTHOUT  DIABETES  3901000.0   \n",
       "3  (41.0968405496, -81.4884726996)    HLTHOUT  DIABETES  3901000.0   \n",
       "4   (41.095228314, -81.5489870893)    HLTHOUT  DIABETES  3901000.0   \n",
       "\n",
       "      TractFIPS  Short_Question_Text  \n",
       "0  3.915350e+10             Diabetes  \n",
       "1  3.915351e+10             Diabetes  \n",
       "2  3.915350e+10             Diabetes  \n",
       "3  3.915350e+10             Diabetes  \n",
       "4  3.915351e+10             Diabetes  \n",
       "\n",
       "[5 rows x 54 columns]"
      ]
     },
     "execution_count": 8,
     "metadata": {},
     "output_type": "execute_result"
    }
   ],
   "source": [
    "df = pd.read_csv(Path('Air_v_Diabetes_Database.csv'))\n",
    "df.head()"
   ]
  },
  {
   "cell_type": "code",
   "execution_count": 9,
   "id": "c2a6c06e",
   "metadata": {},
   "outputs": [],
   "source": [
    "#copying necessary rows\n",
    "\n",
    "Clean_df = df[[\"Data_Value\",\"pm10\", \"pm25\"]].copy()"
   ]
  },
  {
   "cell_type": "code",
   "execution_count": 10,
   "id": "98631e0f",
   "metadata": {},
   "outputs": [],
   "source": [
    "#drop null values\n",
    "\n",
    "df = Clean_df.dropna()"
   ]
  },
  {
   "cell_type": "code",
   "execution_count": 11,
   "id": "dadddc6f",
   "metadata": {},
   "outputs": [
    {
     "data": {
      "image/png": "[encoded data removed]",
      "text/plain": [
       "<Figure size 432x288 with 1 Axes>"
      ]
     },
     "metadata": {
      "needs_background": "light"
     },
     "output_type": "display_data"
    }
   ],
   "source": [
    "#scatter plot of data\n",
    "plt.scatter(df.Data_Value, df.pm25)\n",
    "plt.xlabel('pm25')\n",
    "plt.ylabel('Data_Value')\n",
    "plt.show()"
   ]
  },
  {
   "cell_type": "code",
   "execution_count": 12,
   "id": "3ec67fd3",
   "metadata": {},
   "outputs": [],
   "source": [
    "# we reshaped the data for linear regression model\n",
    "X = df.pm25.values.reshape(-1, 1)"
   ]
  },
  {
   "cell_type": "code",
   "execution_count": 13,
   "id": "48c1e683",
   "metadata": {},
   "outputs": [
    {
     "data": {
      "text/plain": [
       "array([[10.4],\n",
       "       [10.4],\n",
       "       [10.4],\n",
       "       [10.4],\n",
       "       [10.4]])"
      ]
     },
     "execution_count": 13,
     "metadata": {},
     "output_type": "execute_result"
    }
   ],
   "source": [
    "X[:5]"
   ]
  },
  {
   "cell_type": "code",
   "execution_count": 14,
   "id": "fd9ee455",
   "metadata": {},
   "outputs": [
    {
     "data": {
      "text/plain": [
       "(38289, 1)"
      ]
     },
     "execution_count": 14,
     "metadata": {},
     "output_type": "execute_result"
    }
   ],
   "source": [
    "X.shape"
   ]
  },
  {
   "cell_type": "code",
   "execution_count": 15,
   "id": "ce04ca5f",
   "metadata": {},
   "outputs": [],
   "source": [
    "# Setting y value\n",
    "y = df.Data_Value"
   ]
  },
  {
   "cell_type": "code",
   "execution_count": 16,
   "id": "b74c1bad",
   "metadata": {},
   "outputs": [],
   "source": [
    "# define the model\n",
    "model = LinearRegression()"
   ]
  },
  {
   "cell_type": "code",
   "execution_count": 17,
   "id": "271ee29e",
   "metadata": {},
   "outputs": [
    {
     "data": {
      "text/plain": [
       "LinearRegression()"
      ]
     },
     "execution_count": 17,
     "metadata": {},
     "output_type": "execute_result"
    }
   ],
   "source": [
    "#fit the model \n",
    "model.fit(X, y)"
   ]
  },
  {
   "cell_type": "code",
   "execution_count": 18,
   "id": "0e13fba5",
   "metadata": {},
   "outputs": [
    {
     "name": "stdout",
     "output_type": "stream",
     "text": [
      "(38289,)\n"
     ]
    }
   ],
   "source": [
    "#Creating the prediction for best fit line\n",
    "y_pred = model.predict(X)\n",
    "print(y_pred.shape)"
   ]
  },
  {
   "cell_type": "code",
   "execution_count": 19,
   "id": "3048cc4e",
   "metadata": {},
   "outputs": [
    {
     "data": {
      "image/png": "[encoded data removed]",
      "text/plain": [
       "<Figure size 432x288 with 1 Axes>"
      ]
     },
     "metadata": {
      "needs_background": "light"
     },
     "output_type": "display_data"
    }
   ],
   "source": [
    "#plot best fit line with data\n",
    "plt.scatter(X, y)\n",
    "plt.plot(X, y_pred, color='red')\n",
    "plt.show()"
   ]
  },
  {
   "cell_type": "code",
   "execution_count": 20,
   "id": "8d6a33ca",
   "metadata": {},
   "outputs": [
    {
     "name": "stdout",
     "output_type": "stream",
     "text": [
      "[0.29670413]\n",
      "8.345363710098363\n"
     ]
    }
   ],
   "source": [
    "#coef = slope\n",
    "#intercept = y intercept\n",
    "print(model.coef_)\n",
    "print(model.intercept_)"
   ]
  },
  {
   "cell_type": "code",
   "execution_count": 23,
   "id": "3783a59d",
   "metadata": {},
   "outputs": [],
   "source": [
    "#Multiple Regression \n",
    "X2 = df[['pm10', 'pm25']]\n",
    "y2 = df['Data_Value']"
   ]
  },
  {
   "cell_type": "code",
   "execution_count": 24,
   "id": "d6db0d62",
   "metadata": {},
   "outputs": [
    {
     "data": {
      "text/plain": [
       "LinearRegression()"
      ]
     },
     "execution_count": 24,
     "metadata": {},
     "output_type": "execute_result"
    }
   ],
   "source": [
    "# setting up model\n",
    "regr = LinearRegression()\n",
    "regr.fit(X2, y2)"
   ]
  },
  {
   "cell_type": "code",
   "execution_count": 25,
   "id": "22f99c93",
   "metadata": {},
   "outputs": [
    {
     "name": "stdout",
     "output_type": "stream",
     "text": [
      "(38289,)\n"
     ]
    }
   ],
   "source": [
    "# makes y predict\n",
    "y_pred2 = regr.predict(X2)\n",
    "print(y_pred2.shape)"
   ]
  },
  {
   "cell_type": "code",
   "execution_count": 26,
   "id": "f885a79f",
   "metadata": {},
   "outputs": [
    {
     "name": "stderr",
     "output_type": "stream",
     "text": [
      "C:\\Users\\jmsua\\anaconda3\\envs\\PythonData\\lib\\site-packages\\sklearn\\base.py:451: UserWarning: X does not have valid feature names, but LinearRegression was fitted with feature names\n",
      "  \"X does not have valid feature names, but\"\n"
     ]
    }
   ],
   "source": [
    "#predict the % diabetes of a population where pm10 is 18 and pm2.5 is 14\n",
    "predictedDiabetes = regr.predict([[18, 14]])"
   ]
  },
  {
   "cell_type": "code",
   "execution_count": 28,
   "id": "08152843",
   "metadata": {},
   "outputs": [
    {
     "name": "stdout",
     "output_type": "stream",
     "text": [
      "[17.90179518]\n"
     ]
    }
   ],
   "source": [
    "# predicted % of population with diabetes, if the pm10 is 18 and pm 2.5 is 14\n",
    "print(predictedDiabetes)"
   ]
  },
  {
   "cell_type": "code",
   "execution_count": 29,
   "id": "7119c152",
   "metadata": {},
   "outputs": [
    {
     "name": "stdout",
     "output_type": "stream",
     "text": [
      "[-0.49009648  1.31693389]\n"
     ]
    }
   ],
   "source": [
    "#coef = slope\n",
    "print(regr.coef_)"
   ]
  },
  {
   "cell_type": "code",
   "execution_count": 30,
   "id": "af7c4515",
   "metadata": {},
   "outputs": [
    {
     "name": "stdout",
     "output_type": "stream",
     "text": [
      "8.286457469165205\n"
     ]
    }
   ],
   "source": [
    "#intercept = y intercept\n",
    "print(regr.intercept_)"
   ]
  },
  {
   "cell_type": "code",
   "execution_count": 31,
   "id": "2c679ef2",
   "metadata": {},
   "outputs": [
    {
     "name": "stdout",
     "output_type": "stream",
     "text": [
      "Root mean square error 4.270052069261256\n"
     ]
    }
   ],
   "source": [
    "# root mean square calculated by sklearn package\n",
    "# closer RMSE score is to zero the better fit \n",
    "\n",
    "mse = math.sqrt(mean_squared_error(y2, y_pred2))\n",
    "print('Root mean square error', mse)"
   ]
  }
 ],
 "metadata": {
  "kernelspec": {
   "display_name": "mlenv",
   "language": "python",
   "name": "mlenv"
  },
  "language_info": {
   "codemirror_mode": {
    "name": "ipython",
    "version": 3
   },
   "file_extension": ".py",
   "mimetype": "text/x-python",
   "name": "python",
   "nbconvert_exporter": "python",
   "pygments_lexer": "ipython3",
   "version": "3.7.11"
  }
 },
 "nbformat": 4,
 "nbformat_minor": 5
}
